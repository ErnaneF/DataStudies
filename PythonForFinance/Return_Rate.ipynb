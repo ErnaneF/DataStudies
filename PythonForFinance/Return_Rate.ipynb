{
 "cells": [
  {
   "cell_type": "code",
   "execution_count": 1,
   "metadata": {},
   "outputs": [],
   "source": [
    "import pandas as pd\n",
    "import numpy as np\n",
    "import plotly.express as px\n"
   ]
  },
  {
   "cell_type": "code",
   "execution_count": 37,
   "metadata": {},
   "outputs": [],
   "source": [
    "dataset = pd.read_csv('acoes.csv')"
   ]
  },
  {
   "cell_type": "code",
   "execution_count": 38,
   "metadata": {},
   "outputs": [],
   "source": [
    "if 'Unnamed: 0' in dataset.columns:\n",
    "    dataset.drop(columns=['Unnamed: 0'], inplace=True)\n"
   ]
  },
  {
   "cell_type": "code",
   "execution_count": 39,
   "metadata": {},
   "outputs": [
    {
     "data": {
      "text/html": [
       "<div>\n",
       "<style scoped>\n",
       "    .dataframe tbody tr th:only-of-type {\n",
       "        vertical-align: middle;\n",
       "    }\n",
       "\n",
       "    .dataframe tbody tr th {\n",
       "        vertical-align: top;\n",
       "    }\n",
       "\n",
       "    .dataframe thead th {\n",
       "        text-align: right;\n",
       "    }\n",
       "</style>\n",
       "<table border=\"1\" class=\"dataframe\">\n",
       "  <thead>\n",
       "    <tr style=\"text-align: right;\">\n",
       "      <th></th>\n",
       "      <th>Date</th>\n",
       "      <th>ITUB4</th>\n",
       "      <th>BBSE3</th>\n",
       "      <th>BEEF3</th>\n",
       "      <th>CMIG4</th>\n",
       "      <th>ITSA4</th>\n",
       "      <th>PETR3</th>\n",
       "      <th>PETR4</th>\n",
       "      <th>POSI3</th>\n",
       "      <th>IBOVESPA</th>\n",
       "    </tr>\n",
       "  </thead>\n",
       "  <tbody>\n",
       "    <tr>\n",
       "      <th>0</th>\n",
       "      <td>2015-01-02</td>\n",
       "      <td>18.639118</td>\n",
       "      <td>30.350000</td>\n",
       "      <td>9.321634</td>\n",
       "      <td>6.324786</td>\n",
       "      <td>5.606873</td>\n",
       "      <td>9.000000</td>\n",
       "      <td>9.360000</td>\n",
       "      <td>2.03</td>\n",
       "      <td>47.259998</td>\n",
       "    </tr>\n",
       "    <tr>\n",
       "      <th>1</th>\n",
       "      <td>2015-01-05</td>\n",
       "      <td>18.732782</td>\n",
       "      <td>29.440001</td>\n",
       "      <td>8.879152</td>\n",
       "      <td>6.161725</td>\n",
       "      <td>5.625216</td>\n",
       "      <td>8.270000</td>\n",
       "      <td>8.560000</td>\n",
       "      <td>2.13</td>\n",
       "      <td>46.320000</td>\n",
       "    </tr>\n",
       "    <tr>\n",
       "      <th>2</th>\n",
       "      <td>2015-01-06</td>\n",
       "      <td>19.035812</td>\n",
       "      <td>30.690001</td>\n",
       "      <td>8.751323</td>\n",
       "      <td>6.107371</td>\n",
       "      <td>5.668017</td>\n",
       "      <td>8.060000</td>\n",
       "      <td>8.280000</td>\n",
       "      <td>2.07</td>\n",
       "      <td>46.580002</td>\n",
       "    </tr>\n",
       "    <tr>\n",
       "      <th>3</th>\n",
       "      <td>2015-01-07</td>\n",
       "      <td>19.724518</td>\n",
       "      <td>30.200001</td>\n",
       "      <td>9.331467</td>\n",
       "      <td>6.107371</td>\n",
       "      <td>5.882019</td>\n",
       "      <td>8.450000</td>\n",
       "      <td>8.670000</td>\n",
       "      <td>2.09</td>\n",
       "      <td>48.150002</td>\n",
       "    </tr>\n",
       "    <tr>\n",
       "      <th>4</th>\n",
       "      <td>2015-01-08</td>\n",
       "      <td>20.033056</td>\n",
       "      <td>30.110001</td>\n",
       "      <td>9.292135</td>\n",
       "      <td>6.057959</td>\n",
       "      <td>5.943163</td>\n",
       "      <td>9.020000</td>\n",
       "      <td>9.230000</td>\n",
       "      <td>2.17</td>\n",
       "      <td>48.509998</td>\n",
       "    </tr>\n",
       "    <tr>\n",
       "      <th>...</th>\n",
       "      <td>...</td>\n",
       "      <td>...</td>\n",
       "      <td>...</td>\n",
       "      <td>...</td>\n",
       "      <td>...</td>\n",
       "      <td>...</td>\n",
       "      <td>...</td>\n",
       "      <td>...</td>\n",
       "      <td>...</td>\n",
       "      <td>...</td>\n",
       "    </tr>\n",
       "    <tr>\n",
       "      <th>2445</th>\n",
       "      <td>2024-10-28</td>\n",
       "      <td>35.730000</td>\n",
       "      <td>34.380001</td>\n",
       "      <td>5.620000</td>\n",
       "      <td>11.290000</td>\n",
       "      <td>10.770000</td>\n",
       "      <td>39.320000</td>\n",
       "      <td>36.090000</td>\n",
       "      <td>6.70</td>\n",
       "      <td>127.839996</td>\n",
       "    </tr>\n",
       "    <tr>\n",
       "      <th>2446</th>\n",
       "      <td>2024-10-29</td>\n",
       "      <td>35.349998</td>\n",
       "      <td>34.500000</td>\n",
       "      <td>5.790000</td>\n",
       "      <td>11.370000</td>\n",
       "      <td>10.700000</td>\n",
       "      <td>39.220001</td>\n",
       "      <td>36.009998</td>\n",
       "      <td>6.35</td>\n",
       "      <td>127.250000</td>\n",
       "    </tr>\n",
       "    <tr>\n",
       "      <th>2447</th>\n",
       "      <td>2024-10-30</td>\n",
       "      <td>35.250000</td>\n",
       "      <td>34.500000</td>\n",
       "      <td>5.960000</td>\n",
       "      <td>11.380000</td>\n",
       "      <td>10.670000</td>\n",
       "      <td>38.880001</td>\n",
       "      <td>35.849998</td>\n",
       "      <td>6.57</td>\n",
       "      <td>127.230003</td>\n",
       "    </tr>\n",
       "    <tr>\n",
       "      <th>2448</th>\n",
       "      <td>2024-10-31</td>\n",
       "      <td>35.020000</td>\n",
       "      <td>34.270000</td>\n",
       "      <td>5.800000</td>\n",
       "      <td>11.370000</td>\n",
       "      <td>10.610000</td>\n",
       "      <td>39.060001</td>\n",
       "      <td>35.910000</td>\n",
       "      <td>6.41</td>\n",
       "      <td>126.260002</td>\n",
       "    </tr>\n",
       "    <tr>\n",
       "      <th>2449</th>\n",
       "      <td>2024-11-01</td>\n",
       "      <td>34.810001</td>\n",
       "      <td>34.279999</td>\n",
       "      <td>5.760000</td>\n",
       "      <td>11.360000</td>\n",
       "      <td>10.510000</td>\n",
       "      <td>38.299999</td>\n",
       "      <td>35.419998</td>\n",
       "      <td>6.06</td>\n",
       "      <td>124.599998</td>\n",
       "    </tr>\n",
       "  </tbody>\n",
       "</table>\n",
       "<p>2450 rows × 10 columns</p>\n",
       "</div>"
      ],
      "text/plain": [
       "            Date      ITUB4      BBSE3     BEEF3      CMIG4      ITSA4  \\\n",
       "0     2015-01-02  18.639118  30.350000  9.321634   6.324786   5.606873   \n",
       "1     2015-01-05  18.732782  29.440001  8.879152   6.161725   5.625216   \n",
       "2     2015-01-06  19.035812  30.690001  8.751323   6.107371   5.668017   \n",
       "3     2015-01-07  19.724518  30.200001  9.331467   6.107371   5.882019   \n",
       "4     2015-01-08  20.033056  30.110001  9.292135   6.057959   5.943163   \n",
       "...          ...        ...        ...       ...        ...        ...   \n",
       "2445  2024-10-28  35.730000  34.380001  5.620000  11.290000  10.770000   \n",
       "2446  2024-10-29  35.349998  34.500000  5.790000  11.370000  10.700000   \n",
       "2447  2024-10-30  35.250000  34.500000  5.960000  11.380000  10.670000   \n",
       "2448  2024-10-31  35.020000  34.270000  5.800000  11.370000  10.610000   \n",
       "2449  2024-11-01  34.810001  34.279999  5.760000  11.360000  10.510000   \n",
       "\n",
       "          PETR3      PETR4  POSI3    IBOVESPA  \n",
       "0      9.000000   9.360000   2.03   47.259998  \n",
       "1      8.270000   8.560000   2.13   46.320000  \n",
       "2      8.060000   8.280000   2.07   46.580002  \n",
       "3      8.450000   8.670000   2.09   48.150002  \n",
       "4      9.020000   9.230000   2.17   48.509998  \n",
       "...         ...        ...    ...         ...  \n",
       "2445  39.320000  36.090000   6.70  127.839996  \n",
       "2446  39.220001  36.009998   6.35  127.250000  \n",
       "2447  38.880001  35.849998   6.57  127.230003  \n",
       "2448  39.060001  35.910000   6.41  126.260002  \n",
       "2449  38.299999  35.419998   6.06  124.599998  \n",
       "\n",
       "[2450 rows x 10 columns]"
      ]
     },
     "execution_count": 39,
     "metadata": {},
     "output_type": "execute_result"
    }
   ],
   "source": [
    "dataset"
   ]
  },
  {
   "cell_type": "markdown",
   "metadata": {},
   "source": [
    "## ITUB\n"
   ]
  },
  {
   "cell_type": "code",
   "execution_count": 40,
   "metadata": {},
   "outputs": [
    {
     "name": "stdout",
     "output_type": "stream",
     "text": [
      "86.7577693853196\n"
     ]
    }
   ],
   "source": [
    "## Retorno Simples\n",
    "\n",
    "preco_final = dataset['ITUB4'][len(dataset) -1 ]\n",
    "preco_inicial = dataset['ITUB4'][0]\n",
    "\n",
    "taxa_retorno_S = ((preco_final - preco_inicial) / preco_inicial)*100\n",
    "print(taxa_retorno_S)"
   ]
  },
  {
   "cell_type": "code",
   "execution_count": 41,
   "metadata": {},
   "outputs": [],
   "source": [
    "dataset[' RSD ITUB4'] = (dataset['ITUB4'] / dataset['ITUB4'].shift(1)) - 1"
   ]
  },
  {
   "cell_type": "code",
   "execution_count": 46,
   "metadata": {},
   "outputs": [
    {
     "data": {
      "text/plain": [
       "11.02581451709626"
      ]
     },
     "execution_count": 46,
     "metadata": {},
     "output_type": "execute_result"
    }
   ],
   "source": [
    "(dataset[' RSD ITUB4'].mean() * 246 )* 100"
   ]
  },
  {
   "cell_type": "code",
   "execution_count": null,
   "metadata": {},
   "outputs": [],
   "source": [
    "np.log(dataset['ITUB4'][len(dataset) -1 ] /dataset['ITUB4'][0])"
   ]
  },
  {
   "cell_type": "markdown",
   "metadata": {},
   "source": [
    "## BBSE3"
   ]
  },
  {
   "cell_type": "code",
   "execution_count": 21,
   "metadata": {},
   "outputs": [
    {
     "name": "stdout",
     "output_type": "stream",
     "text": [
      "12.94892371805906\n"
     ]
    }
   ],
   "source": [
    "## Retorno Simples\n",
    "\n",
    "preco_final = dataset['BBSE3'][len(dataset) -1 ]\n",
    "preco_inicial = dataset['BBSE3'][0]\n",
    "\n",
    "taxa_retorno_S = ((preco_final - preco_inicial) / preco_inicial)*100\n",
    "print(taxa_retorno_S)"
   ]
  },
  {
   "cell_type": "code",
   "execution_count": 48,
   "metadata": {},
   "outputs": [],
   "source": [
    "dataset[' RSD BBSE3'] = (dataset['BBSE3'] / dataset['BBSE3'].shift(1)) - 1"
   ]
  },
  {
   "cell_type": "code",
   "execution_count": 49,
   "metadata": {},
   "outputs": [
    {
     "data": {
      "text/plain": [
       "5.5456531053228115"
      ]
     },
     "execution_count": 49,
     "metadata": {},
     "output_type": "execute_result"
    }
   ],
   "source": [
    "(dataset[' RSD BBSE3'].mean() * 246 )* 100"
   ]
  },
  {
   "cell_type": "markdown",
   "metadata": {},
   "source": [
    "## BEEF3"
   ]
  },
  {
   "cell_type": "code",
   "execution_count": 22,
   "metadata": {},
   "outputs": [
    {
     "name": "stdout",
     "output_type": "stream",
     "text": [
      "-38.208257821776435\n"
     ]
    }
   ],
   "source": [
    "## Retorno Simples\n",
    "\n",
    "preco_final = dataset['BEEF3'][len(dataset) -1 ]\n",
    "preco_inicial = dataset['BEEF3'][0]\n",
    "\n",
    "taxa_retorno_S = ((preco_final - preco_inicial) / preco_inicial)*100\n",
    "print(taxa_retorno_S)"
   ]
  },
  {
   "cell_type": "code",
   "execution_count": 50,
   "metadata": {},
   "outputs": [],
   "source": [
    "dataset[' RSD BEEF3'] = (dataset['BEEF3'] / dataset['BEEF3'].shift(1)) - 1"
   ]
  },
  {
   "cell_type": "code",
   "execution_count": null,
   "metadata": {},
   "outputs": [],
   "source": [
    "(dataset[' RSD BEEF3'].mean() * 246 )* 100"
   ]
  },
  {
   "cell_type": "markdown",
   "metadata": {},
   "source": [
    "## CMIG4"
   ]
  },
  {
   "cell_type": "code",
   "execution_count": 23,
   "metadata": {},
   "outputs": [
    {
     "name": "stdout",
     "output_type": "stream",
     "text": [
      "79.6108093176452\n"
     ]
    }
   ],
   "source": [
    "## Retorno Simples\n",
    "\n",
    "preco_final = dataset['CMIG4'][len(dataset) -1 ]\n",
    "preco_inicial = dataset['CMIG4'][0]\n",
    "\n",
    "taxa_retorno_S = ((preco_final - preco_inicial) / preco_inicial)*100\n",
    "print(taxa_retorno_S)"
   ]
  },
  {
   "cell_type": "markdown",
   "metadata": {},
   "source": [
    "## ITSA4"
   ]
  },
  {
   "cell_type": "code",
   "execution_count": 24,
   "metadata": {},
   "outputs": [
    {
     "name": "stdout",
     "output_type": "stream",
     "text": [
      "87.44851475086246\n"
     ]
    }
   ],
   "source": [
    "\n",
    "## Retorno Simples\n",
    "\n",
    "preco_final = dataset['ITSA4'][len(dataset) -1 ]\n",
    "preco_inicial = dataset['ITSA4'][0]\n",
    "\n",
    "taxa_retorno_S = ((preco_final - preco_inicial) / preco_inicial)*100\n",
    "print(taxa_retorno_S)"
   ]
  },
  {
   "cell_type": "markdown",
   "metadata": {},
   "source": [
    "## PETR3"
   ]
  },
  {
   "cell_type": "code",
   "execution_count": 25,
   "metadata": {},
   "outputs": [
    {
     "name": "stdout",
     "output_type": "stream",
     "text": [
      "325.55554707845056\n"
     ]
    }
   ],
   "source": [
    "## Retorno Simples\n",
    "\n",
    "preco_final = dataset['PETR3'][len(dataset) -1 ]\n",
    "preco_inicial = dataset['PETR3'][0]\n",
    "\n",
    "taxa_retorno_S = ((preco_final - preco_inicial) / preco_inicial)*100\n",
    "print(taxa_retorno_S)"
   ]
  },
  {
   "cell_type": "markdown",
   "metadata": {},
   "source": [
    "## PETR4"
   ]
  },
  {
   "cell_type": "code",
   "execution_count": null,
   "metadata": {},
   "outputs": [],
   "source": [
    "## Retorno Simples\n",
    "\n",
    "preco_final = dataset['PETR4'][len(dataset) -1 ]\n",
    "preco_inicial = dataset['PETR4'][0]\n",
    "\n",
    "taxa_retorno_S = ((preco_final - preco_inicial) / preco_inicial)*100\n",
    "print(taxa_retorno_S)"
   ]
  },
  {
   "cell_type": "markdown",
   "metadata": {},
   "source": [
    "## POSI3"
   ]
  },
  {
   "cell_type": "code",
   "execution_count": 26,
   "metadata": {},
   "outputs": [
    {
     "name": "stdout",
     "output_type": "stream",
     "text": [
      "198.5221688762275\n"
     ]
    }
   ],
   "source": [
    "\n",
    "## Retorno Simples\n",
    "\n",
    "preco_final = dataset['POSI3'][len(dataset) -1 ]\n",
    "preco_inicial = dataset['POSI3'][0]\n",
    "\n",
    "taxa_retorno_S = ((preco_final - preco_inicial) / preco_inicial)*100\n",
    "print(taxa_retorno_S)"
   ]
  },
  {
   "cell_type": "markdown",
   "metadata": {},
   "source": [
    "## IBOVESPA"
   ]
  },
  {
   "cell_type": "code",
   "execution_count": null,
   "metadata": {},
   "outputs": [],
   "source": [
    "## Retorno Simples\n",
    "preco_final = dataset['IBOVESPA'][len(dataset) -1 ]\n",
    "preco_inicial = dataset['IBOVESPA'][0]\n",
    "\n",
    "taxa_retorno_S = ((preco_final - preco_inicial) / preco_inicial)*100\n",
    "print(taxa_retorno_S)"
   ]
  }
 ],
 "metadata": {
  "kernelspec": {
   "display_name": "Python 3",
   "language": "python",
   "name": "python3"
  },
  "language_info": {
   "codemirror_mode": {
    "name": "ipython",
    "version": 3
   },
   "file_extension": ".py",
   "mimetype": "text/x-python",
   "name": "python",
   "nbconvert_exporter": "python",
   "pygments_lexer": "ipython3",
   "version": "3.11.9"
  }
 },
 "nbformat": 4,
 "nbformat_minor": 2
}
