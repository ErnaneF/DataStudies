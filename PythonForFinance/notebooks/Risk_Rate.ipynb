{
 "cells": [
  {
   "cell_type": "markdown",
   "id": "1cbb536f",
   "metadata": {},
   "source": [
    "# Imports and Cleaning"
   ]
  },
  {
   "cell_type": "code",
   "execution_count": 8,
   "id": "2d9ceb8a",
   "metadata": {},
   "outputs": [],
   "source": [
    "import pandas as pd\n",
    "import numpy as np\n",
    "import math\n",
    "from scipy import stats\n",
    "import matplotlib.pyplot as plt\n",
    "import seaborn as sns\n"
   ]
  },
  {
   "cell_type": "code",
   "execution_count": 9,
   "id": "b1881ea5",
   "metadata": {},
   "outputs": [
    {
     "data": {
      "text/html": [
       "<div>\n",
       "<style scoped>\n",
       "    .dataframe tbody tr th:only-of-type {\n",
       "        vertical-align: middle;\n",
       "    }\n",
       "\n",
       "    .dataframe tbody tr th {\n",
       "        vertical-align: top;\n",
       "    }\n",
       "\n",
       "    .dataframe thead th {\n",
       "        text-align: right;\n",
       "    }\n",
       "</style>\n",
       "<table border=\"1\" class=\"dataframe\">\n",
       "  <thead>\n",
       "    <tr style=\"text-align: right;\">\n",
       "      <th></th>\n",
       "      <th>Date</th>\n",
       "      <th>ITUB4</th>\n",
       "      <th>BBSE3</th>\n",
       "      <th>BEEF3</th>\n",
       "      <th>CMIG4</th>\n",
       "      <th>ITSA4</th>\n",
       "      <th>PETR3</th>\n",
       "      <th>PETR4</th>\n",
       "      <th>POSI3</th>\n",
       "      <th>IBOVESPA</th>\n",
       "    </tr>\n",
       "  </thead>\n",
       "  <tbody>\n",
       "    <tr>\n",
       "      <th>0</th>\n",
       "      <td>2015-01-02</td>\n",
       "      <td>18.639118</td>\n",
       "      <td>30.350000</td>\n",
       "      <td>9.321634</td>\n",
       "      <td>6.324786</td>\n",
       "      <td>5.606873</td>\n",
       "      <td>9.000000</td>\n",
       "      <td>9.360000</td>\n",
       "      <td>2.03</td>\n",
       "      <td>47.259998</td>\n",
       "    </tr>\n",
       "    <tr>\n",
       "      <th>1</th>\n",
       "      <td>2015-01-05</td>\n",
       "      <td>18.732782</td>\n",
       "      <td>29.440001</td>\n",
       "      <td>8.879152</td>\n",
       "      <td>6.161725</td>\n",
       "      <td>5.625216</td>\n",
       "      <td>8.270000</td>\n",
       "      <td>8.560000</td>\n",
       "      <td>2.13</td>\n",
       "      <td>46.320000</td>\n",
       "    </tr>\n",
       "    <tr>\n",
       "      <th>2</th>\n",
       "      <td>2015-01-06</td>\n",
       "      <td>19.035812</td>\n",
       "      <td>30.690001</td>\n",
       "      <td>8.751323</td>\n",
       "      <td>6.107371</td>\n",
       "      <td>5.668017</td>\n",
       "      <td>8.060000</td>\n",
       "      <td>8.280000</td>\n",
       "      <td>2.07</td>\n",
       "      <td>46.580002</td>\n",
       "    </tr>\n",
       "    <tr>\n",
       "      <th>3</th>\n",
       "      <td>2015-01-07</td>\n",
       "      <td>19.724518</td>\n",
       "      <td>30.200001</td>\n",
       "      <td>9.331467</td>\n",
       "      <td>6.107371</td>\n",
       "      <td>5.882019</td>\n",
       "      <td>8.450000</td>\n",
       "      <td>8.670000</td>\n",
       "      <td>2.09</td>\n",
       "      <td>48.150002</td>\n",
       "    </tr>\n",
       "    <tr>\n",
       "      <th>4</th>\n",
       "      <td>2015-01-08</td>\n",
       "      <td>20.033056</td>\n",
       "      <td>30.110001</td>\n",
       "      <td>9.292135</td>\n",
       "      <td>6.057959</td>\n",
       "      <td>5.943163</td>\n",
       "      <td>9.020000</td>\n",
       "      <td>9.230000</td>\n",
       "      <td>2.17</td>\n",
       "      <td>48.509998</td>\n",
       "    </tr>\n",
       "    <tr>\n",
       "      <th>...</th>\n",
       "      <td>...</td>\n",
       "      <td>...</td>\n",
       "      <td>...</td>\n",
       "      <td>...</td>\n",
       "      <td>...</td>\n",
       "      <td>...</td>\n",
       "      <td>...</td>\n",
       "      <td>...</td>\n",
       "      <td>...</td>\n",
       "      <td>...</td>\n",
       "    </tr>\n",
       "    <tr>\n",
       "      <th>2445</th>\n",
       "      <td>2024-10-28</td>\n",
       "      <td>35.730000</td>\n",
       "      <td>34.380001</td>\n",
       "      <td>5.620000</td>\n",
       "      <td>11.290000</td>\n",
       "      <td>10.770000</td>\n",
       "      <td>39.320000</td>\n",
       "      <td>36.090000</td>\n",
       "      <td>6.70</td>\n",
       "      <td>127.839996</td>\n",
       "    </tr>\n",
       "    <tr>\n",
       "      <th>2446</th>\n",
       "      <td>2024-10-29</td>\n",
       "      <td>35.349998</td>\n",
       "      <td>34.500000</td>\n",
       "      <td>5.790000</td>\n",
       "      <td>11.370000</td>\n",
       "      <td>10.700000</td>\n",
       "      <td>39.220001</td>\n",
       "      <td>36.009998</td>\n",
       "      <td>6.35</td>\n",
       "      <td>127.250000</td>\n",
       "    </tr>\n",
       "    <tr>\n",
       "      <th>2447</th>\n",
       "      <td>2024-10-30</td>\n",
       "      <td>35.250000</td>\n",
       "      <td>34.500000</td>\n",
       "      <td>5.960000</td>\n",
       "      <td>11.380000</td>\n",
       "      <td>10.670000</td>\n",
       "      <td>38.880001</td>\n",
       "      <td>35.849998</td>\n",
       "      <td>6.57</td>\n",
       "      <td>127.230003</td>\n",
       "    </tr>\n",
       "    <tr>\n",
       "      <th>2448</th>\n",
       "      <td>2024-10-31</td>\n",
       "      <td>35.020000</td>\n",
       "      <td>34.270000</td>\n",
       "      <td>5.800000</td>\n",
       "      <td>11.370000</td>\n",
       "      <td>10.610000</td>\n",
       "      <td>39.060001</td>\n",
       "      <td>35.910000</td>\n",
       "      <td>6.41</td>\n",
       "      <td>126.260002</td>\n",
       "    </tr>\n",
       "    <tr>\n",
       "      <th>2449</th>\n",
       "      <td>2024-11-01</td>\n",
       "      <td>34.810001</td>\n",
       "      <td>34.279999</td>\n",
       "      <td>5.760000</td>\n",
       "      <td>11.360000</td>\n",
       "      <td>10.510000</td>\n",
       "      <td>38.299999</td>\n",
       "      <td>35.419998</td>\n",
       "      <td>6.06</td>\n",
       "      <td>124.599998</td>\n",
       "    </tr>\n",
       "  </tbody>\n",
       "</table>\n",
       "<p>2450 rows × 10 columns</p>\n",
       "</div>"
      ],
      "text/plain": [
       "            Date      ITUB4      BBSE3     BEEF3      CMIG4      ITSA4  \\\n",
       "0     2015-01-02  18.639118  30.350000  9.321634   6.324786   5.606873   \n",
       "1     2015-01-05  18.732782  29.440001  8.879152   6.161725   5.625216   \n",
       "2     2015-01-06  19.035812  30.690001  8.751323   6.107371   5.668017   \n",
       "3     2015-01-07  19.724518  30.200001  9.331467   6.107371   5.882019   \n",
       "4     2015-01-08  20.033056  30.110001  9.292135   6.057959   5.943163   \n",
       "...          ...        ...        ...       ...        ...        ...   \n",
       "2445  2024-10-28  35.730000  34.380001  5.620000  11.290000  10.770000   \n",
       "2446  2024-10-29  35.349998  34.500000  5.790000  11.370000  10.700000   \n",
       "2447  2024-10-30  35.250000  34.500000  5.960000  11.380000  10.670000   \n",
       "2448  2024-10-31  35.020000  34.270000  5.800000  11.370000  10.610000   \n",
       "2449  2024-11-01  34.810001  34.279999  5.760000  11.360000  10.510000   \n",
       "\n",
       "          PETR3      PETR4  POSI3    IBOVESPA  \n",
       "0      9.000000   9.360000   2.03   47.259998  \n",
       "1      8.270000   8.560000   2.13   46.320000  \n",
       "2      8.060000   8.280000   2.07   46.580002  \n",
       "3      8.450000   8.670000   2.09   48.150002  \n",
       "4      9.020000   9.230000   2.17   48.509998  \n",
       "...         ...        ...    ...         ...  \n",
       "2445  39.320000  36.090000   6.70  127.839996  \n",
       "2446  39.220001  36.009998   6.35  127.250000  \n",
       "2447  38.880001  35.849998   6.57  127.230003  \n",
       "2448  39.060001  35.910000   6.41  126.260002  \n",
       "2449  38.299999  35.419998   6.06  124.599998  \n",
       "\n",
       "[2450 rows x 10 columns]"
      ]
     },
     "execution_count": 9,
     "metadata": {},
     "output_type": "execute_result"
    }
   ],
   "source": [
    "dataset = pd.read_csv('acoes.csv')\n",
    "if 'Unnamed: 0' in dataset.columns:\n",
    "    dataset.drop(columns='Unnamed: 0', inplace=True)\n",
    "dataset"
   ]
  },
  {
   "cell_type": "markdown",
   "id": "6146249a",
   "metadata": {},
   "source": [
    "# Cálculo Anual "
   ]
  },
  {
   "cell_type": "code",
   "execution_count": 10,
   "id": "de40afda",
   "metadata": {},
   "outputs": [
    {
     "data": {
      "text/html": [
       "<div>\n",
       "<style scoped>\n",
       "    .dataframe tbody tr th:only-of-type {\n",
       "        vertical-align: middle;\n",
       "    }\n",
       "\n",
       "    .dataframe tbody tr th {\n",
       "        vertical-align: top;\n",
       "    }\n",
       "\n",
       "    .dataframe thead th {\n",
       "        text-align: right;\n",
       "    }\n",
       "</style>\n",
       "<table border=\"1\" class=\"dataframe\">\n",
       "  <thead>\n",
       "    <tr style=\"text-align: right;\">\n",
       "      <th></th>\n",
       "      <th>ITUB4</th>\n",
       "      <th>BBSE3</th>\n",
       "      <th>BEEF3</th>\n",
       "      <th>CMIG4</th>\n",
       "      <th>ITSA4</th>\n",
       "      <th>PETR3</th>\n",
       "      <th>PETR4</th>\n",
       "      <th>POSI3</th>\n",
       "      <th>IBOVESPA</th>\n",
       "    </tr>\n",
       "  </thead>\n",
       "  <tbody>\n",
       "    <tr>\n",
       "      <th>count</th>\n",
       "      <td>2450.000000</td>\n",
       "      <td>2450.000000</td>\n",
       "      <td>2450.000000</td>\n",
       "      <td>2450.000000</td>\n",
       "      <td>2450.000000</td>\n",
       "      <td>2450.000000</td>\n",
       "      <td>2450.000000</td>\n",
       "      <td>2450.000000</td>\n",
       "      <td>2423.000000</td>\n",
       "    </tr>\n",
       "    <tr>\n",
       "      <th>mean</th>\n",
       "      <td>27.206279</td>\n",
       "      <td>28.960200</td>\n",
       "      <td>9.850847</td>\n",
       "      <td>6.541509</td>\n",
       "      <td>8.248776</td>\n",
       "      <td>24.744449</td>\n",
       "      <td>22.902833</td>\n",
       "      <td>5.274094</td>\n",
       "      <td>88.577363</td>\n",
       "    </tr>\n",
       "    <tr>\n",
       "      <th>std</th>\n",
       "      <td>5.743042</td>\n",
       "      <td>4.006290</td>\n",
       "      <td>2.408647</td>\n",
       "      <td>2.276546</td>\n",
       "      <td>1.706118</td>\n",
       "      <td>9.683522</td>\n",
       "      <td>9.169787</td>\n",
       "      <td>3.229065</td>\n",
       "      <td>26.067666</td>\n",
       "    </tr>\n",
       "    <tr>\n",
       "      <th>min</th>\n",
       "      <td>13.981818</td>\n",
       "      <td>18.400000</td>\n",
       "      <td>4.631318</td>\n",
       "      <td>2.119791</td>\n",
       "      <td>4.233560</td>\n",
       "      <td>5.910000</td>\n",
       "      <td>4.200000</td>\n",
       "      <td>1.240000</td>\n",
       "      <td>36.450001</td>\n",
       "    </tr>\n",
       "    <tr>\n",
       "      <th>25%</th>\n",
       "      <td>23.455000</td>\n",
       "      <td>26.480000</td>\n",
       "      <td>7.994186</td>\n",
       "      <td>4.309661</td>\n",
       "      <td>7.135541</td>\n",
       "      <td>16.054999</td>\n",
       "      <td>15.062500</td>\n",
       "      <td>2.420000</td>\n",
       "      <td>63.490000</td>\n",
       "    </tr>\n",
       "    <tr>\n",
       "      <th>50%</th>\n",
       "      <td>27.175000</td>\n",
       "      <td>28.735000</td>\n",
       "      <td>9.900000</td>\n",
       "      <td>6.853652</td>\n",
       "      <td>8.336171</td>\n",
       "      <td>26.650000</td>\n",
       "      <td>24.310000</td>\n",
       "      <td>3.995000</td>\n",
       "      <td>95.379997</td>\n",
       "    </tr>\n",
       "    <tr>\n",
       "      <th>75%</th>\n",
       "      <td>32.033333</td>\n",
       "      <td>32.029999</td>\n",
       "      <td>11.602878</td>\n",
       "      <td>8.261242</td>\n",
       "      <td>9.574020</td>\n",
       "      <td>31.520000</td>\n",
       "      <td>29.270000</td>\n",
       "      <td>7.707500</td>\n",
       "      <td>110.199997</td>\n",
       "    </tr>\n",
       "    <tr>\n",
       "      <th>max</th>\n",
       "      <td>39.689999</td>\n",
       "      <td>38.320000</td>\n",
       "      <td>16.059999</td>\n",
       "      <td>12.010000</td>\n",
       "      <td>11.782778</td>\n",
       "      <td>44.540001</td>\n",
       "      <td>42.900002</td>\n",
       "      <td>15.580000</td>\n",
       "      <td>133.619995</td>\n",
       "    </tr>\n",
       "  </tbody>\n",
       "</table>\n",
       "</div>"
      ],
      "text/plain": [
       "             ITUB4        BBSE3        BEEF3        CMIG4        ITSA4  \\\n",
       "count  2450.000000  2450.000000  2450.000000  2450.000000  2450.000000   \n",
       "mean     27.206279    28.960200     9.850847     6.541509     8.248776   \n",
       "std       5.743042     4.006290     2.408647     2.276546     1.706118   \n",
       "min      13.981818    18.400000     4.631318     2.119791     4.233560   \n",
       "25%      23.455000    26.480000     7.994186     4.309661     7.135541   \n",
       "50%      27.175000    28.735000     9.900000     6.853652     8.336171   \n",
       "75%      32.033333    32.029999    11.602878     8.261242     9.574020   \n",
       "max      39.689999    38.320000    16.059999    12.010000    11.782778   \n",
       "\n",
       "             PETR3        PETR4        POSI3     IBOVESPA  \n",
       "count  2450.000000  2450.000000  2450.000000  2423.000000  \n",
       "mean     24.744449    22.902833     5.274094    88.577363  \n",
       "std       9.683522     9.169787     3.229065    26.067666  \n",
       "min       5.910000     4.200000     1.240000    36.450001  \n",
       "25%      16.054999    15.062500     2.420000    63.490000  \n",
       "50%      26.650000    24.310000     3.995000    95.379997  \n",
       "75%      31.520000    29.270000     7.707500   110.199997  \n",
       "max      44.540001    42.900002    15.580000   133.619995  "
      ]
     },
     "execution_count": 10,
     "metadata": {},
     "output_type": "execute_result"
    }
   ],
   "source": [
    "dataset.describe()\n",
    "# Mean é a media do valor de cada ação (Acumulado de todos os anos)\n",
    "# Std é a variação média que a ação tem. A variação por ser positiva ou negativa (Indicador significad desvio Padrão)"
   ]
  },
  {
   "cell_type": "markdown",
   "id": "e54d7b38",
   "metadata": {},
   "source": [
    "## 2020"
   ]
  },
  {
   "cell_type": "code",
   "execution_count": 11,
   "id": "5f758cee",
   "metadata": {},
   "outputs": [
    {
     "data": {
      "text/plain": [
       "(1243    32.799999\n",
       " Name: PETR3, dtype: float64,\n",
       " 1490    28.85\n",
       " Name: PETR3, dtype: float64)"
      ]
     },
     "execution_count": 11,
     "metadata": {},
     "output_type": "execute_result"
    }
   ],
   "source": [
    "# Pegando a empresa com maior variação de valor\n",
    "dataset['PETR3'][dataset['Date'] == '2020-01-02'], dataset['PETR3'][dataset['Date'] == '2020-12-30'] "
   ]
  },
  {
   "cell_type": "code",
   "execution_count": 12,
   "id": "21bd8ae9",
   "metadata": {},
   "outputs": [
    {
     "data": {
      "text/plain": [
       "-12.831852243598929"
      ]
     },
     "execution_count": 12,
     "metadata": {},
     "output_type": "execute_result"
    }
   ],
   "source": [
    "# Taxa de Retorno Logaritmica \n",
    "np.log(28.85 / 32.8) * 100"
   ]
  },
  {
   "cell_type": "code",
   "execution_count": 13,
   "id": "61f1fad1",
   "metadata": {},
   "outputs": [
    {
     "data": {
      "text/plain": [
       "(1243    11.782778\n",
       " Name: ITSA4, dtype: float64,\n",
       " 1490    9.631497\n",
       " Name: ITSA4, dtype: float64)"
      ]
     },
     "execution_count": 13,
     "metadata": {},
     "output_type": "execute_result"
    }
   ],
   "source": [
    "# Empresa com menor variação de valor\n",
    "dataset['ITSA4'][dataset['Date'] == '2020-01-02'], dataset['ITSA4'][dataset['Date'] == '2020-12-30'] "
   ]
  },
  {
   "cell_type": "code",
   "execution_count": 14,
   "id": "da7f46af",
   "metadata": {},
   "outputs": [
    {
     "data": {
      "text/plain": [
       "-20.633643299782857"
      ]
     },
     "execution_count": 14,
     "metadata": {},
     "output_type": "execute_result"
    }
   ],
   "source": [
    "# Taxa de Retorno Logaritmica \n",
    "np.log(9.6 / 11.8) * 100"
   ]
  },
  {
   "cell_type": "markdown",
   "id": "904cbc67",
   "metadata": {},
   "source": [
    "## 2021\n"
   ]
  },
  {
   "cell_type": "code",
   "execution_count": 15,
   "id": "17fdb8ca",
   "metadata": {},
   "outputs": [
    {
     "data": {
      "text/plain": [
       "(1491    29.5\n",
       " Name: PETR3, dtype: float64,\n",
       " 1737    30.700001\n",
       " Name: PETR3, dtype: float64)"
      ]
     },
     "execution_count": 15,
     "metadata": {},
     "output_type": "execute_result"
    }
   ],
   "source": [
    "# Pegando a empresa com maior variação de valor\n",
    "dataset['PETR3'][dataset['Date'] == '2021-01-04'], dataset['PETR3'][dataset['Date'] == '2021-12-30'] "
   ]
  },
  {
   "cell_type": "code",
   "execution_count": 16,
   "id": "c29bd836",
   "metadata": {},
   "outputs": [
    {
     "data": {
      "text/plain": [
       "3.9872391247377355"
      ]
     },
     "execution_count": 16,
     "metadata": {},
     "output_type": "execute_result"
    }
   ],
   "source": [
    "# Taxa de Retorno Logaritmica \n",
    "np.log(30.7 / 29.5) * 100"
   ]
  },
  {
   "cell_type": "code",
   "execution_count": 17,
   "id": "eb2836ca",
   "metadata": {},
   "outputs": [
    {
     "data": {
      "text/plain": [
       "(1491    9.483699\n",
       " Name: ITSA4, dtype: float64,\n",
       " 1737    7.699039\n",
       " Name: ITSA4, dtype: float64)"
      ]
     },
     "execution_count": 17,
     "metadata": {},
     "output_type": "execute_result"
    }
   ],
   "source": [
    "# Empresa com menor variação de valor\n",
    "dataset['ITSA4'][dataset['Date'] == '2021-01-04'], dataset['ITSA4'][dataset['Date'] == '2021-12-30'] "
   ]
  },
  {
   "cell_type": "code",
   "execution_count": 18,
   "id": "3f0cccdf",
   "metadata": {},
   "outputs": [
    {
     "data": {
      "text/plain": [
       "-21.007146974685703"
      ]
     },
     "execution_count": 18,
     "metadata": {},
     "output_type": "execute_result"
    }
   ],
   "source": [
    "# Taxa de Retorno Logaritmica \n",
    "np.log(7.7 / 9.5) * 100"
   ]
  },
  {
   "cell_type": "markdown",
   "id": "924d42fa",
   "metadata": {},
   "source": [
    "## 2022"
   ]
  },
  {
   "cell_type": "code",
   "execution_count": 19,
   "id": "169bc9cd",
   "metadata": {},
   "outputs": [
    {
     "data": {
      "text/plain": [
       "(1738    31.52\n",
       " Name: PETR3, dtype: float64,\n",
       " 1987    28.040001\n",
       " Name: PETR3, dtype: float64)"
      ]
     },
     "execution_count": 19,
     "metadata": {},
     "output_type": "execute_result"
    }
   ],
   "source": [
    "# Pegando a empresa com maior variação de valor\n",
    "dataset['PETR3'][dataset['Date'] == '2022-01-03'], dataset['PETR3'][dataset['Date'] == '2022-12-29'] "
   ]
  },
  {
   "cell_type": "code",
   "execution_count": 20,
   "id": "d33a6220",
   "metadata": {},
   "outputs": [
    {
     "data": {
      "text/plain": [
       "-11.841775481447446"
      ]
     },
     "execution_count": 20,
     "metadata": {},
     "output_type": "execute_result"
    }
   ],
   "source": [
    "# Taxa de Retorno Logaritmica \n",
    "np.log(28 / 31.52) * 100"
   ]
  },
  {
   "cell_type": "code",
   "execution_count": 21,
   "id": "05073eed",
   "metadata": {},
   "outputs": [
    {
     "data": {
      "text/plain": [
       "(1738    7.776633\n",
       " Name: ITSA4, dtype: float64,\n",
       " 1987    8.070628\n",
       " Name: ITSA4, dtype: float64)"
      ]
     },
     "execution_count": 21,
     "metadata": {},
     "output_type": "execute_result"
    }
   ],
   "source": [
    "# Empresa com menor variação de valor\n",
    "dataset['ITSA4'][dataset['Date'] == '2022-01-03'], dataset['ITSA4'][dataset['Date'] == '2022-12-29'] "
   ]
  },
  {
   "cell_type": "code",
   "execution_count": 22,
   "id": "5e597886",
   "metadata": {},
   "outputs": [
    {
     "data": {
      "text/plain": [
       "2.531780798429"
      ]
     },
     "execution_count": 22,
     "metadata": {},
     "output_type": "execute_result"
    }
   ],
   "source": [
    "# Taxa de Retorno Logaritmica \n",
    "np.log(8 / 7.8) * 100"
   ]
  },
  {
   "cell_type": "markdown",
   "id": "d1358a6d",
   "metadata": {},
   "source": [
    "## 2023"
   ]
  },
  {
   "cell_type": "code",
   "execution_count": 23,
   "id": "3d4cb0e0",
   "metadata": {},
   "outputs": [
    {
     "data": {
      "text/plain": [
       "(1988    26.17\n",
       " Name: PETR3, dtype: float64,\n",
       " 2235    38.98\n",
       " Name: PETR3, dtype: float64)"
      ]
     },
     "execution_count": 23,
     "metadata": {},
     "output_type": "execute_result"
    }
   ],
   "source": [
    "# Pegando a empresa com maior variação de valor\n",
    "dataset['PETR3'][dataset['Date'] == '2023-01-02'], dataset['PETR3'][dataset['Date'] == '2023-12-28'] "
   ]
  },
  {
   "cell_type": "code",
   "execution_count": 24,
   "id": "aaa7ab42",
   "metadata": {},
   "outputs": [
    {
     "data": {
      "text/plain": [
       "39.84349775373601"
      ]
     },
     "execution_count": 24,
     "metadata": {},
     "output_type": "execute_result"
    }
   ],
   "source": [
    "# Taxa de Retorno Logaritmica \n",
    "np.log(38.98 /26.17 ) * 100"
   ]
  },
  {
   "cell_type": "code",
   "execution_count": 25,
   "id": "ed89e08c",
   "metadata": {},
   "outputs": [
    {
     "data": {
      "text/plain": [
       "(1988    7.928372\n",
       " Name: ITSA4, dtype: float64,\n",
       " 2235    10.37\n",
       " Name: ITSA4, dtype: float64)"
      ]
     },
     "execution_count": 25,
     "metadata": {},
     "output_type": "execute_result"
    }
   ],
   "source": [
    "# Pegando a empresa com maior variação de valor\n",
    "dataset['ITSA4'][dataset['Date'] == '2023-01-02'], dataset['ITSA4'][dataset['Date'] == '2023-12-28'] "
   ]
  },
  {
   "cell_type": "code",
   "execution_count": 26,
   "id": "55053459",
   "metadata": {},
   "outputs": [
    {
     "data": {
      "text/plain": [
       "27.205426276846005"
      ]
     },
     "execution_count": 26,
     "metadata": {},
     "output_type": "execute_result"
    }
   ],
   "source": [
    "# Taxa de Retorno Logaritmica \n",
    "np.log(10.37 /7.9 ) * 100"
   ]
  },
  {
   "cell_type": "markdown",
   "id": "897b0c47",
   "metadata": {},
   "source": [
    "## 2024"
   ]
  },
  {
   "cell_type": "code",
   "execution_count": 27,
   "id": "20075d75",
   "metadata": {},
   "outputs": [
    {
     "data": {
      "text/plain": [
       "(2236    39.360001\n",
       " Name: PETR3, dtype: float64,\n",
       " 2449    38.299999\n",
       " Name: PETR3, dtype: float64)"
      ]
     },
     "execution_count": 27,
     "metadata": {},
     "output_type": "execute_result"
    }
   ],
   "source": [
    "# Pegando a empresa com maior variação de valor\n",
    "dataset['PETR3'][dataset['Date'] == '2024-01-02'], dataset['PETR3'][dataset['Date'] == '2024-11-01'] "
   ]
  },
  {
   "cell_type": "code",
   "execution_count": 28,
   "id": "f3787bf7",
   "metadata": {},
   "outputs": [
    {
     "data": {
      "text/plain": [
       "-3.3379222073834716"
      ]
     },
     "execution_count": 28,
     "metadata": {},
     "output_type": "execute_result"
    }
   ],
   "source": [
    "# Taxa de Retorno Logaritmica \n",
    "np.log(38.3 /39.6 ) * 100"
   ]
  },
  {
   "cell_type": "code",
   "execution_count": 29,
   "id": "42a94f23",
   "metadata": {},
   "outputs": [
    {
     "data": {
      "text/plain": [
       "(2236    10.17\n",
       " Name: ITSA4, dtype: float64,\n",
       " 2449    10.51\n",
       " Name: ITSA4, dtype: float64)"
      ]
     },
     "execution_count": 29,
     "metadata": {},
     "output_type": "execute_result"
    }
   ],
   "source": [
    "# Pegando a empresa com maior variação de valor\n",
    "dataset['ITSA4'][dataset['Date'] == '2024-01-02'], dataset['ITSA4'][dataset['Date'] == '2024-11-01'] "
   ]
  },
  {
   "cell_type": "code",
   "execution_count": 30,
   "id": "049cc1af",
   "metadata": {},
   "outputs": [
    {
     "data": {
      "text/plain": [
       "3.2884974828391056"
      ]
     },
     "execution_count": 30,
     "metadata": {},
     "output_type": "execute_result"
    }
   ],
   "source": [
    "# Taxa de Retorno Logaritmica \n",
    "np.log(10.51 / 10.17 ) * 100"
   ]
  },
  {
   "cell_type": "markdown",
   "id": "3dcddd68",
   "metadata": {},
   "source": [
    "# Variância"
   ]
  },
  {
   "cell_type": "code",
   "execution_count": 31,
   "id": "105cbfe8",
   "metadata": {},
   "outputs": [
    {
     "data": {
      "text/plain": [
       "3.188"
      ]
     },
     "execution_count": 31,
     "metadata": {},
     "output_type": "execute_result"
    }
   ],
   "source": [
    "\n",
    "taxas_petrobras = np.array([-12.8, 3.99, -11.8, 39.85, -3.3]) # Todas as taxas de desvio de 2020 - 2024 \n",
    "media_petrobras = taxas_petrobras.sum() / len(taxas_petrobras)\n",
    "# media_petrobras = taxas_petrobras.mean()\n",
    "media_petrobras"
   ]
  },
  {
   "cell_type": "code",
   "execution_count": 32,
   "id": "a218e212",
   "metadata": {},
   "outputs": [
    {
     "data": {
      "text/plain": [
       "373.419176"
      ]
     },
     "execution_count": 32,
     "metadata": {},
     "output_type": "execute_result"
    }
   ],
   "source": [
    "variancia_petrobras = ((taxas_petrobras - media_petrobras) ** 2).sum() / len(taxas_petrobras)\n",
    "#variancia_petrobras = taxas_petrobras.var()\n",
    "variancia_petrobras"
   ]
  },
  {
   "cell_type": "code",
   "execution_count": 33,
   "id": "41e698de",
   "metadata": {},
   "outputs": [
    {
     "data": {
      "text/plain": [
       "-1.7400000000000007"
      ]
     },
     "execution_count": 33,
     "metadata": {},
     "output_type": "execute_result"
    }
   ],
   "source": [
    "\n",
    "taxas_itausa = np.array([-20.6, -21, 2.5, 27.2, 3.2]) # Todas as taxas de desvio de 2020 - 2024 \n",
    "media_itausa = taxas_itausa.sum() / len(taxas_itausa)\n",
    "# media_itausa = taxas_itausa.mean()\n",
    "media_itausa"
   ]
  },
  {
   "cell_type": "code",
   "execution_count": 34,
   "id": "3c2a007f",
   "metadata": {},
   "outputs": [
    {
     "data": {
      "text/plain": [
       "321.3104"
      ]
     },
     "execution_count": 34,
     "metadata": {},
     "output_type": "execute_result"
    }
   ],
   "source": [
    "variancia_itausa = ((taxas_itausa - media_itausa) ** 2).sum() / len(taxas_itausa)\n",
    "#variancia_itausa = taxas_itausa.var()\n",
    "variancia_itausa"
   ]
  },
  {
   "cell_type": "code",
   "execution_count": null,
   "id": "c23e7c67",
   "metadata": {},
   "outputs": [
    {
     "data": {
      "text/plain": [
       "(28.84446839324308, 1.071370618819071)"
      ]
     },
     "execution_count": 39,
     "metadata": {},
     "output_type": "execute_result"
    },
    {
     "ename": "",
     "evalue": "",
     "output_type": "error",
     "traceback": [
      "\u001b[1;31mO Kernel deu pane ao executar o código na célula atual ou em uma célula anterior. \n",
      "\u001b[1;31mAnalise o código nas células para identificar uma possível causa da pane. \n",
      "\u001b[1;31mClique <a href='https://aka.ms/vscodeJupyterKernelCrash'>aqui</a> para obter mais informações. \n",
      "\u001b[1;31mConsulte Jupyter <a href='command:jupyter.viewOutput'>log</a> para obter mais detalhes."
     ]
    }
   ],
   "source": [
    "dataset['PETR3'].tail(500).var(), dataset['ITSA4'].tail(500).var()"
   ]
  }
 ],
 "metadata": {
  "kernelspec": {
   "display_name": "Python 3",
   "language": "python",
   "name": "python3"
  },
  "language_info": {
   "codemirror_mode": {
    "name": "ipython",
    "version": 3
   },
   "file_extension": ".py",
   "mimetype": "text/x-python",
   "name": "python",
   "nbconvert_exporter": "python",
   "pygments_lexer": "ipython3",
   "version": "3.12.10"
  }
 },
 "nbformat": 4,
 "nbformat_minor": 5
}
